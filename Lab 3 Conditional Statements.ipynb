{
 "cells": [
  {
   "cell_type": "markdown",
   "metadata": {},
   "source": [
    "## Jigyasa Sachdeva\n",
    "\n",
    "## 664791188\n",
    "\n",
    "## Lab 3- Conditional Statements"
   ]
  },
  {
   "cell_type": "markdown",
   "metadata": {},
   "source": [
    "### If statement practice- 1"
   ]
  },
  {
   "cell_type": "code",
   "execution_count": 10,
   "metadata": {},
   "outputs": [
    {
     "name": "stdout",
     "output_type": "stream",
     "text": [
      "Enter an integer: 120\n",
      "x>100, x<150\n",
      "all done!\n"
     ]
    }
   ],
   "source": [
    "x = int(input(\"Enter an integer: \"))\n",
    "if x < 100:\n",
    "    print(\"x<100\")\n",
    "elif (x < 150) & (x > 100):\n",
    "    print(\"x>100, x<150\")\n",
    "print(\"all done!\")"
   ]
  },
  {
   "cell_type": "markdown",
   "metadata": {},
   "source": [
    "### If statement practice- 2"
   ]
  },
  {
   "cell_type": "code",
   "execution_count": 17,
   "metadata": {},
   "outputs": [
    {
     "name": "stdout",
     "output_type": "stream",
     "text": [
      "Enter an integer: 5\n",
      "5  is odd.\n"
     ]
    }
   ],
   "source": [
    "x = int(input(\"Enter an integer: \"))\n",
    "if x % 2 == 0:\n",
    "    print(x,\" is even. \")\n",
    "else:\n",
    "    print(x,\" is odd.\")\n"
   ]
  },
  {
   "cell_type": "markdown",
   "metadata": {},
   "source": [
    "### If statement practice- 3"
   ]
  },
  {
   "cell_type": "code",
   "execution_count": 19,
   "metadata": {},
   "outputs": [
    {
     "name": "stdout",
     "output_type": "stream",
     "text": [
      "Enter first integer x: 4\n",
      "Enter second integer y: 12\n",
      "4 is less than  12\n"
     ]
    }
   ],
   "source": [
    "x = int(input(\"Enter first integer x: \"))\n",
    "y = int(input(\"Enter second integer y: \"))\n",
    "if x < y:\n",
    "    print(x,\"is less than \",y)\n",
    "elif y < x:\n",
    "    print(x,\" is greater than \",y)\n",
    "else:\n",
    "    print(x,\" must be equal to \",y)"
   ]
  },
  {
   "cell_type": "markdown",
   "metadata": {},
   "source": [
    "### If statement practice- 4"
   ]
  },
  {
   "cell_type": "code",
   "execution_count": 1,
   "metadata": {},
   "outputs": [
    {
     "name": "stdout",
     "output_type": "stream",
     "text": [
      "Enter time as an integer: 11\n",
      "Soon time for lunch\n"
     ]
    }
   ],
   "source": [
    "value = int(input(\"Enter time as an integer: \"))\n",
    "if value < 10:\n",
    "    print(\"Good morning\")\n",
    "elif (value >= 10) & (value <12):\n",
    "    print(\"Soon time for lunch\")\n",
    "elif (value >= 12) & (value <18):\n",
    "    print(\"Good day\")\n",
    "elif (value >= 18) & (value <22):\n",
    "    print(\"Good evening\")  \n",
    "else:\n",
    "    print(\"Good night\")"
   ]
  },
  {
   "cell_type": "markdown",
   "metadata": {},
   "source": [
    "### If statement practice- 5"
   ]
  },
  {
   "cell_type": "code",
   "execution_count": 4,
   "metadata": {},
   "outputs": [
    {
     "name": "stdout",
     "output_type": "stream",
     "text": [
      "Question 1: Please select your year (freshman, sophomore, junior, senior): senior\n",
      "Question 2: How many courses have you taken so far? 16\n",
      "you are good to graduate\n"
     ]
    }
   ],
   "source": [
    "ques1 = input(\"Question 1: Please select your year (freshman, sophomore, junior, senior): \")\n",
    "ques2 = int(input(\"Question 2: How many courses have you taken so far? \"))\n",
    "if ques1 == \"freshman\":\n",
    "    if ques2 < 4:\n",
    "        print(\"take more on your sophomore year\")\n",
    "    else:\n",
    "        print(\"you are taking enough for the year\")\n",
    "        \n",
    "elif(ques1 == \"sophomore\"):\n",
    "    print(\"you have taken \",ques2,\" courses. \")\n",
    "    \n",
    "elif(ques1 == \"junior\") & (ques2 <12):\n",
    "    print(\"less than 12 courses\")\n",
    "    \n",
    "elif(ques1 == \"senior\") & (ques2 == 16): \n",
    "    print(\"you are good to graduate\")\n",
    "    if ques2 < 16:\n",
    "        print(\"sorry, you need more courses\")\n",
    "\n",
    "else:\n",
    "    print(\"The year you entered is incorrect\")\n",
    "            "
   ]
  },
  {
   "cell_type": "code",
   "execution_count": null,
   "metadata": {},
   "outputs": [],
   "source": []
  }
 ],
 "metadata": {
  "kernelspec": {
   "display_name": "Python 3",
   "language": "python",
   "name": "python3"
  },
  "language_info": {
   "codemirror_mode": {
    "name": "ipython",
    "version": 3
   },
   "file_extension": ".py",
   "mimetype": "text/x-python",
   "name": "python",
   "nbconvert_exporter": "python",
   "pygments_lexer": "ipython3",
   "version": "3.8.2"
  }
 },
 "nbformat": 4,
 "nbformat_minor": 4
}

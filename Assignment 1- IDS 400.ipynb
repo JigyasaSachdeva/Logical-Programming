{
 "cells": [
  {
   "cell_type": "markdown",
   "metadata": {},
   "source": [
    "## Jigyasa Sachdeva\n",
    "## UIN- 664799188\n",
    "## IDS 400- Assignment 1"
   ]
  },
  {
   "cell_type": "markdown",
   "metadata": {},
   "source": [
    "### Answer 1: "
   ]
  },
  {
   "cell_type": "code",
   "execution_count": 62,
   "metadata": {},
   "outputs": [
    {
     "name": "stdout",
     "output_type": "stream",
     "text": [
      "*  \n",
      "* * *  \n",
      "* * * * *  \n"
     ]
    }
   ],
   "source": [
    "#Patter printing a traingle\n",
    "#i referes to the number of rows\n",
    "for i in range(3):\n",
    "    #range if j determines odd numbers with respect to index i\n",
    "    #(i+1)*2-1 will output 1,3,5 for i=0,1,2 respectively\n",
    "    for j in range((i+1)*2-1):\n",
    "        #Print 1,3,5 stars respectively, ending with \" \"\n",
    "        print(\"*\", end = \" \")\n",
    "    print(\" \")"
   ]
  },
  {
   "cell_type": "markdown",
   "metadata": {},
   "source": [
    "### Answer 2:"
   ]
  },
  {
   "cell_type": "code",
   "execution_count": 11,
   "metadata": {},
   "outputs": [
    {
     "name": "stdout",
     "output_type": "stream",
     "text": [
      "23.0 17.0\n"
     ]
    }
   ],
   "source": [
    "import math\n",
    "#For x^2 - 40x + 391:\n",
    "a= 1\n",
    "b= -40\n",
    "c= 391\n",
    "\n",
    "#Calculating b^2 - 4ac:\n",
    "rt = b*b - 4*a*c\n",
    "\n",
    "#Sqaure root of b^2- 4ac\n",
    "sqrt = math.sqrt(rt)\n",
    "\n",
    "#The roots of the equation are b^2 - 4ac, b^2 + 4ac:\n",
    "x1 = (-b+sqrt)/2*a\n",
    "x2 = (-b-sqrt)/2*a\n",
    "\n",
    "#Printing the respective roots:\n",
    "print(x1,x2)"
   ]
  },
  {
   "cell_type": "code",
   "execution_count": 16,
   "metadata": {},
   "outputs": [
    {
     "name": "stdout",
     "output_type": "stream",
     "text": [
      "Enter a: 2\n",
      "Enter b: -8\n",
      "Enter c: 4\n",
      "The roots of the equation are:  13.65685424949238  and  2.3431457505076194\n"
     ]
    }
   ],
   "source": [
    "#Evaluating roots with inputs:\n",
    "a = int(input(\"Enter a: \"))\n",
    "b = int(input(\"Enter b: \"))\n",
    "c = int(input(\"Enter c: \"))\n",
    "#The equation is of the form: a(x^2) +b(x) + c\n",
    "\n",
    "rt = b*b - 4*a*c\n",
    "sqrt = math.sqrt(rt)\n",
    "x1 = (-b+sqrt)/2*a\n",
    "x2 = (-b-sqrt)/2*a\n",
    "print(\"The roots of the equation are: \",x1,\" and \", x2)"
   ]
  },
  {
   "cell_type": "markdown",
   "metadata": {},
   "source": [
    "### Answer 3:"
   ]
  },
  {
   "cell_type": "code",
   "execution_count": 29,
   "metadata": {},
   "outputs": [
    {
     "name": "stdout",
     "output_type": "stream",
     "text": [
      "Enter x: 15\n",
      "Enter y: 10\n",
      "The result of the equation (x+y)/(x-y) is:  5\n",
      "The result of the equation (x-y)^3 is:  125\n",
      "The last digit of the equation (x+y) is:  5\n"
     ]
    }
   ],
   "source": [
    "#1\n",
    "x = int(input(\"Enter x: \"))\n",
    "y = int(input(\"Enter y: \"))\n",
    "\n",
    "#2\n",
    "eq1 = (x+y)/(x-y)\n",
    "#converting the output to an integer:\n",
    "a1 = int(eq1)\n",
    "eq2 = pow((x-y),3)\n",
    "print(\"The result of the equation (x+y)/(x-y) is: \",a1)\n",
    "print(\"The result of the equation (x-y)^3 is: \",eq2)\n",
    "\n",
    "#3\n",
    "c = x+y\n",
    "#Last digit of c would be the remainder when c is divided by 10\n",
    "lastd = (x+y)%10\n",
    "print(\"The last digit of the equation (x+y) is: \",lastd)"
   ]
  },
  {
   "cell_type": "markdown",
   "metadata": {},
   "source": [
    "### Answer 4:"
   ]
  },
  {
   "cell_type": "code",
   "execution_count": 61,
   "metadata": {},
   "outputs": [
    {
     "name": "stdout",
     "output_type": "stream",
     "text": [
      "Player 1: rock\n",
      "Player 2: paper\n",
      "Player 2 wins\n"
     ]
    }
   ],
   "source": [
    "Player1 = input(\"Player 1: \")\n",
    "Player2 = input(\"Player 2: \")\n",
    "\n",
    "#cases when Player 1 wins:\n",
    "if ((Player1 == 'rock') & (Player2 == 'scissor')) | ((Player1 == 'scissor') & (Player2 == 'paper')) | ((Player1 == 'paper') & (Player2 == 'rock')):\n",
    "    print(\"Player 1 wins\")\n",
    "#Cases when Player 2 wins:\n",
    "elif ((Player2 == 'rock') & (Player1 == 'scissor')) | ((Player2 == 'scissor') & (Player1 == 'paper')) | ((Player2 == 'paper') & (Player1 == 'rock')):\n",
    "    print(\"Player 2 wins\")\n",
    "#Cases when Draw happens:\n",
    "elif ((Player2 == 'rock') & (Player1 == 'rock')) | ((Player2 == 'scissor') & (Player1 == 'scissor')) | ((Player2 == 'paper') & (Player1 == 'paper')):\n",
    "    print(\"Draw\")\n",
    "#Cases when the input is not amongst rock, paper, scissor:\n",
    "else:\n",
    "    print(\"Invalid input\")"
   ]
  },
  {
   "cell_type": "markdown",
   "metadata": {},
   "source": [
    "### Answer 5:"
   ]
  },
  {
   "cell_type": "code",
   "execution_count": 58,
   "metadata": {},
   "outputs": [
    {
     "name": "stdout",
     "output_type": "stream",
     "text": [
      "Please enter the temperature: 60\n",
      "Is this Celsius or Fahrenheit? C\n",
      "60 C  is  140  in Fahrenheit\n"
     ]
    }
   ],
   "source": [
    "temp = int(input(\"Please enter the temperature: \"))\n",
    "degree = input(\"Is this Celsius or Fahrenheit? \")\n",
    "\n",
    "#Celsius/5 = (Fahrenheit – 32)/9\n",
    "\n",
    "#If the temperature is given in celcius\n",
    "if(degree == 'C'):\n",
    "    #From the formula, temperature in Fahrenheit would be as follows:\n",
    "    out = ((temp/5)*9)+32\n",
    "    outi = int(out)\n",
    "    print(temp,degree,\" is \",outi,\" in Fahrenheit\")\n",
    "#If the temperature is given in Fahrenheit\n",
    "elif(degree == 'F'):\n",
    "    #From the formula, temperature in Celcius would be as follows:\n",
    "    out = ((temp-32)/9)*5\n",
    "    outi = int(out)\n",
    "    print(temp,degree,\" is \",outi,\" in Celcius\")\n",
    "#When the input is wrong:\n",
    "else:\n",
    "    print(\"Please enter number in temperature and C/F in degree\")"
   ]
  }
 ],
 "metadata": {
  "kernelspec": {
   "display_name": "Python 3",
   "language": "python",
   "name": "python3"
  },
  "language_info": {
   "codemirror_mode": {
    "name": "ipython",
    "version": 3
   },
   "file_extension": ".py",
   "mimetype": "text/x-python",
   "name": "python",
   "nbconvert_exporter": "python",
   "pygments_lexer": "ipython3",
   "version": "3.8.2"
  }
 },
 "nbformat": 4,
 "nbformat_minor": 4
}
